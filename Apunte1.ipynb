{
 "cells": [
  {
   "cell_type": "markdown",
   "metadata": {},
   "source": [
    "# Curso de Python"
   ]
  },
  {
   "cell_type": "markdown",
   "metadata": {},
   "source": [
    "## Lección 1. Tipos de dato"
   ]
  },
  {
   "cell_type": "code",
   "execution_count": 5,
   "metadata": {},
   "outputs": [
    {
     "name": "stdout",
     "output_type": "stream",
     "text": [
      "10 8.5 Hola python True\n"
     ]
    }
   ],
   "source": [
    "# Los tipos de dato son los valores que se pueden almacenar en una variable. \n",
    "# En Python, los tipos de datos más comunes son:\n",
    "entero = 10 #Número entero\n",
    "decimal= 8.5 #Número decimal\n",
    "texto= \"Hola python\" #Texto cadena\n",
    "booleano = True #Booleano (True o False)\n",
    "print(entero, decimal, texto, booleano)"
   ]
  },
  {
   "cell_type": "code",
   "execution_count": 6,
   "metadata": {},
   "outputs": [
    {
     "name": "stdout",
     "output_type": "stream",
     "text": [
      "Entero:  10 Tipo:  <class 'int'>\n",
      "Decimal:  8.5 Tipo:  <class 'float'>\n",
      "Texto:  Hola python Tipo:  <class 'str'>\n",
      "Booleano:  True Tipo:  <class 'bool'>\n"
     ]
    }
   ],
   "source": [
    "## Imprimir variables y tipo de dato \n",
    "# Para imprimir una variable y su tipo de dato, se puede usar la función type() \n",
    "# que devuelve el tipo de dato de una variable.\n",
    "\n",
    "print (\"Entero: \", entero, \"Tipo: \", type(entero))\n",
    "print (\"Decimal: \", decimal, \"Tipo: \", type(decimal))\n",
    "print (\"Texto: \", texto, \"Tipo: \", type(texto))\n",
    "print (\"Booleano: \", booleano, \"Tipo: \", type(booleano))"
   ]
  },
  {
   "cell_type": "markdown",
   "metadata": {},
   "source": [
    "### Cambiar tipo de dato"
   ]
  },
  {
   "cell_type": "code",
   "execution_count": 7,
   "metadata": {},
   "outputs": [
    {
     "name": "stdout",
     "output_type": "stream",
     "text": [
      "Entero:  10.0 Tipo:  <class 'float'>\n",
      "Decimal:  8 Tipo:  <class 'int'>\n",
      "Texto:  Hola python Tipo:  <class 'str'>\n",
      "Booleano:  False Tipo:  <class 'bool'>\n"
     ]
    }
   ],
   "source": [
    "#Cambio de tipo de dato\n",
    "# Para cambiar el tipo de dato de una variable, se puede usar las funciones int(), float(), str() y bool()\n",
    "entero = float(entero)\n",
    "decimal = int(decimal)\n",
    "texto = str(texto)\n",
    "booleano = not booleano\n",
    "\n",
    "print (\"Entero: \", entero, \"Tipo: \", type(entero))\n",
    "print (\"Decimal: \", decimal, \"Tipo: \", type(decimal))\n",
    "print (\"Texto: \", texto, \"Tipo: \", type(texto))\n",
    "print (\"Booleano: \", booleano, \"Tipo: \", type(booleano))"
   ]
  },
  {
   "cell_type": "markdown",
   "metadata": {},
   "source": [
    "### Ejercicio práctico 1"
   ]
  },
  {
   "cell_type": "code",
   "execution_count": 8,
   "metadata": {},
   "outputs": [
    {
     "name": "stdout",
     "output_type": "stream",
     "text": [
      "Hola, me llamo Isabel tengo 31 estoy aprendiendo python True\n"
     ]
    }
   ],
   "source": [
    "#Ejercicio prático\n",
    "# Crear una variable para almacenar tu nombre, edad y si estás aprendiendo python y luego imprimirlo en pantalla.\n",
    "nombre = \"Isabel\"\n",
    "edad = 31\n",
    "learning = True\n",
    "\n",
    "print(\"Hola, me llamo\", nombre, \"tengo\", edad, \"estoy aprendiendo python\", learning)"
   ]
  },
  {
   "cell_type": "code",
   "execution_count": 9,
   "metadata": {},
   "outputs": [
    {
     "name": "stdout",
     "output_type": "stream",
     "text": [
      "Hola, me llamo Isabel, tengo 31 años, estoy aprendiendo python True\n"
     ]
    }
   ],
   "source": [
    "#Ejercicio prácico 2\n",
    "# Crear un programa que solicite al usuario su nombre, edad y si está aprendiendo python y luego imprimirlo en pantalla.\n",
    "\n",
    "nombre = input(\"Cuál es tu nombre?: \")\n",
    "edad = input (\"Cuál es tu edad?: \")\n",
    "learning = input(\"Estás aprendiendo python?: \")\n",
    "\n",
    "print(f\"Hola, me llamo {nombre}, tengo {edad} años, estoy aprendiendo python {learning}\")\n"
   ]
  },
  {
   "cell_type": "code",
   "execution_count": null,
   "metadata": {},
   "outputs": [],
   "source": [
    "# Ejercicio pidiendo el ingleso de datos por el usuario.\n",
    "nombre = input(\"¿Cuál es tu nombre?: \")\n",
    "edad = input(\"¿Cuál es tu edad?: \")\n",
    "learning = input(\"¿Estás aprendiendo Python?: \")\n",
    "\n",
    "# Otra forma de imprimir los datos colocandolos al final.\n",
    "print(\"Hola, me llamo {}, tengo {} años, estoy aprendiendo Python: {}\".format(nombre, edad, learning))"
   ]
  },
  {
   "cell_type": "code",
   "execution_count": null,
   "metadata": {},
   "outputs": [],
   "source": [
    "#Ejercicio 3 concatenando los las variables (poco recomendado)\n",
    "#No se recomienda concatenar variables con el operador +,\n",
    "#  ya que es menos eficiente y más propenso a errores.\n",
    "\n",
    "nombre = input(\"¿Cuál es tu nombre?: \")\n",
    "edad = input(\"¿Cuál es tu edad?: \")\n",
    "learning = input(\"¿Estás aprendiendo Python?: \")\n",
    "\n",
    "print(\"Hola, me llamo \" + nombre + \", tengo \" + edad + \" años, estoy aprendiendo Python: \" + learning)"
   ]
  },
  {
   "cell_type": "markdown",
   "metadata": {},
   "source": [
    "### Uso de tipo explicito de variable"
   ]
  },
  {
   "cell_type": "code",
   "execution_count": 13,
   "metadata": {},
   "outputs": [
    {
     "name": "stdout",
     "output_type": "stream",
     "text": [
      "El área del rectángulo es: 213\n",
      "El perímetro del rectángulo es: 61.6\n",
      "El area es una variable de tipo: <class 'int'> y el perimetro es de tipo: <class 'float'>\n"
     ]
    }
   ],
   "source": [
    "# Este ejercicio calcula el área y perímetro de un rectángulo\n",
    "# Se declaran las varables con los valores de los lados del rectángulo\n",
    "lado1 = float(10.5)\n",
    "lado2 = float(20.3)\n",
    "\n",
    "# Se calcula el área del rectángulo guardando los valores en la variable area\n",
    "area = int(lado1 * lado2)\n",
    "\n",
    "# Se calcula el perímetro del rectángulo guardando los valores en la variable perimetro\n",
    "perimetro = float(2 * (lado1 + lado2))\n",
    "\n",
    "# Se imprimen los resultados colocando los valores de las variables junto a un mensaje para facilitar la interacción con el usuario.\n",
    "print(\"El área del rectángulo es:\", area)\n",
    "print(\"El perímetro del rectángulo es:\", perimetro)\n",
    "\n",
    "#Para ejemplificar los tipos de datos de las variables se imprime el tipo de dato de las variables area y perimetro\n",
    "# Este tipo de consultas ayuda a la hora de comrobar errores por el uso de diferentes tipos de variables.\n",
    "print(f\"El area es una variable de tipo: {type(area)} y el perimetro es de tipo: {type(perimetro)}\")\n"
   ]
  }
 ],
 "metadata": {
  "kernelspec": {
   "display_name": "Python 3",
   "language": "python",
   "name": "python3"
  },
  "language_info": {
   "codemirror_mode": {
    "name": "ipython",
    "version": 3
   },
   "file_extension": ".py",
   "mimetype": "text/x-python",
   "name": "python",
   "nbconvert_exporter": "python",
   "pygments_lexer": "ipython3",
   "version": "3.13.1"
  }
 },
 "nbformat": 4,
 "nbformat_minor": 2
}
