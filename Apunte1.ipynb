{
 "cells": [
  {
   "cell_type": "markdown",
   "metadata": {},
   "source": [
    "# Curso de Python Básico"
   ]
  },
  {
   "cell_type": "markdown",
   "metadata": {},
   "source": [
    "## Ló básico antes de empezar"
   ]
  },
  {
   "cell_type": "markdown",
   "metadata": {},
   "source": [
    "¿Qué es Python?\n",
    "\n",
    "Instalación de Python\n",
    "\n",
    "Instalación de editor de texto."
   ]
  },
  {
   "cell_type": "markdown",
   "metadata": {},
   "source": [
    "#### Reglas Básicas\n",
    "- En Python no es necesario declarar el tipo de variable\n",
    "- Python asigna el tipo de variable automáticamente, esta variable asignada automaticamente es llamada variable dinámica\n",
    "- En Python las variables son case sensitive, que quiere decir que diferencia entre mayúsculas y minúsculas\n",
    "- Las variables en Python pueden contener letras, números y guiones bajos, pero no pueden comenzar con un número\n",
    "- Las variables en Python no pueden contener espacios\n",
    "- Las variables en Python no pueden contener palabras reservadas, las cuales son: and, as, assert, break, class, continue, def, del, elif, else, except, exec, finally, for, from, global, if, import, in, is, lambda, not, or, pass, print, raise, return, try, while, with, yield\n",
    "- Las variables en Python pueden contener números, pero no pueden comenzar con un número\n",
    "- Las variables en Python pueden contener guiones bajos, pero no pueden comenzar con un guión bajo\n",
    "- Las variables en Python no pueden contener espacios."
   ]
  },
  {
   "cell_type": "code",
   "execution_count": 10,
   "metadata": {},
   "outputs": [
    {
     "name": "stdout",
     "output_type": "stream",
     "text": [
      "Hola mundo!\n"
     ]
    }
   ],
   "source": [
    "#Para imprimir texto en pantalla se utiliza la función print()\n",
    "print(\"Hola mundo!\")"
   ]
  },
  {
   "cell_type": "code",
   "execution_count": null,
   "metadata": {},
   "outputs": [],
   "source": [
    "#Asignación de valores a variables, Para asignar valores a variables se utiliza el operador de asignación =\n",
    "# Las variables se ueden modificar en cualquier momento, por ejemplo:\n",
    "x = 6\n"
   ]
  },
  {
   "cell_type": "code",
   "execution_count": null,
   "metadata": {},
   "outputs": [],
   "source": [
    "#Opecaciones aritméticas\n",
    "#suma, resta, multiplicación, división, módulo, potencia\n",
    "suma = 3 + 2 # suma de valores o variables numéricas\n",
    "resta = 3 - 2 # resta de valores o variables numéricas\n",
    "multiplicacion = 3 * 2 # multiplicación de valores o variables numéricas\n",
    "division = 3 / 2    # división de valores o variables numéricas\n",
    "modulo = 3 % 2 # El módulo es el residuo de la división de dos números\n",
    "potencia = 3 ** 2 # La potencia es el resultado de elevar un número a una potencia\n",
    "\n",
    "#Para imprimir el resultado de una operación aritmética se puede hacer de la siguiente manera:\n",
    "print(suma)\n",
    "print(resta)\n",
    "print(multiplicacion)\n",
    "print(division)\n",
    "print(modulo)\n"
   ]
  },
  {
   "cell_type": "code",
   "execution_count": null,
   "metadata": {},
   "outputs": [],
   "source": [
    "#Operaciones con variables\n",
    "x = 3\n",
    "y = 2\n",
    "suma = x + y\n",
    "resta = x - y\n",
    "multiplicacion = x * y\n",
    "division = x / y\n",
    "modulo = x % y\n",
    "potencia = x ** y\n",
    "\n",
    "#Para imprimir el resultado de una operación aritmética se puede hacer de la siguiente manera:\n",
    "print(suma)\n",
    "print(resta)\n",
    "print(multiplicacion)\n",
    "print(division)\n",
    "print(modulo)"
   ]
  },
  {
   "cell_type": "code",
   "execution_count": null,
   "metadata": {},
   "outputs": [],
   "source": [
    "# Los signos =, !=, >, <, >=, <=, == son operadores de comparación\n",
    "# Los operadores de comparación se utilizan para comparar dos valores o variables\n",
    "# El resultado de una comparación es un valor booleano (True o False)\n",
    "# == igual\n",
    "# != diferente\n",
    "# > mayor que\n",
    "# < menor que\n",
    "# >= mayor o igual que\n",
    "# <= menor o igual que\n",
    "\n",
    "#Ejemplo de operadores de comparación\n",
    "x = 3\n",
    "y = 2\n",
    "igual = x == y\n",
    "diferente = x != y\n",
    "mayor_que = x > y\n",
    "menor_que = x < y\n",
    "mayor_o_igual_que = x >= y\n",
    "menor_o_igual_que = x <= y\n",
    "\n",
    "#Para imprimir el resultado de una comparación se puede hacer de la siguiente manera:\n",
    "print(igual)\n",
    "print(diferente)\n",
    "print(mayor_que)\n",
    "print(menor_que)\n",
    "print(mayor_o_igual_que)\n",
    "print(menor_o_igual_que)\n"
   ]
  },
  {
   "cell_type": "markdown",
   "metadata": {},
   "source": [
    "## Día 1. Tipos de dato"
   ]
  },
  {
   "cell_type": "markdown",
   "metadata": {},
   "source": []
  },
  {
   "cell_type": "code",
   "execution_count": 11,
   "metadata": {},
   "outputs": [
    {
     "name": "stdout",
     "output_type": "stream",
     "text": [
      "10 8.5 Hola python True\n"
     ]
    }
   ],
   "source": [
    "# Los tipos de dato son los valores que se pueden almacenar en una variable. \n",
    "# En Python, los tipos de datos más comunes son:\n",
    "entero = 10 #Número entero\n",
    "decimal= 8.5 #Número decimal\n",
    "texto= \"Hola python\" #Texto cadena\n",
    "booleano = True #Booleano (True o False)\n",
    "print(entero, decimal, texto, booleano)"
   ]
  },
  {
   "cell_type": "code",
   "execution_count": 12,
   "metadata": {},
   "outputs": [
    {
     "name": "stdout",
     "output_type": "stream",
     "text": [
      "Entero:  10 Tipo:  <class 'int'>\n",
      "Decimal:  8.5 Tipo:  <class 'float'>\n",
      "Texto:  Hola python Tipo:  <class 'str'>\n",
      "Booleano:  True Tipo:  <class 'bool'>\n"
     ]
    }
   ],
   "source": [
    "## Imprimir variables y tipo de dato \n",
    "# Para imprimir una variable y su tipo de dato, se puede usar la función type() \n",
    "# que devuelve el tipo de dato de una variable.\n",
    "\n",
    "print (\"Entero: \", entero, \"Tipo: \", type(entero))\n",
    "print (\"Decimal: \", decimal, \"Tipo: \", type(decimal))\n",
    "print (\"Texto: \", texto, \"Tipo: \", type(texto))\n",
    "print (\"Booleano: \", booleano, \"Tipo: \", type(booleano))"
   ]
  },
  {
   "cell_type": "markdown",
   "metadata": {},
   "source": [
    "### Cambiar tipo de dato"
   ]
  },
  {
   "cell_type": "code",
   "execution_count": 13,
   "metadata": {},
   "outputs": [
    {
     "name": "stdout",
     "output_type": "stream",
     "text": [
      "Entero:  10.0 Tipo:  <class 'float'>\n",
      "Decimal:  8 Tipo:  <class 'int'>\n",
      "Texto:  Hola python Tipo:  <class 'str'>\n",
      "Booleano:  False Tipo:  <class 'bool'>\n"
     ]
    }
   ],
   "source": [
    "#Cambio de tipo de dato\n",
    "# Para cambiar el tipo de dato de una variable, se puede usar las funciones int(), float(), str() y bool()\n",
    "entero = float(entero)\n",
    "decimal = int(decimal)\n",
    "texto = str(texto)\n",
    "booleano = not booleano\n",
    "\n",
    "print (\"Entero: \", entero, \"Tipo: \", type(entero))\n",
    "print (\"Decimal: \", decimal, \"Tipo: \", type(decimal))\n",
    "print (\"Texto: \", texto, \"Tipo: \", type(texto))\n",
    "print (\"Booleano: \", booleano, \"Tipo: \", type(booleano))"
   ]
  },
  {
   "cell_type": "markdown",
   "metadata": {},
   "source": [
    "### Ejercicio práctico 1"
   ]
  },
  {
   "cell_type": "code",
   "execution_count": 14,
   "metadata": {},
   "outputs": [
    {
     "name": "stdout",
     "output_type": "stream",
     "text": [
      "Hola, me llamo Isabel tengo 31 estoy aprendiendo python True\n"
     ]
    }
   ],
   "source": [
    "#Ejercicio prático\n",
    "# Crear una variable para almacenar tu nombre, edad y si estás aprendiendo python y luego imprimirlo en pantalla.\n",
    "nombre = \"Isabel\"\n",
    "edad = 31\n",
    "learning = True\n",
    "\n",
    "print(\"Hola, me llamo\", nombre, \"tengo\", edad, \"estoy aprendiendo python\", learning)"
   ]
  },
  {
   "cell_type": "code",
   "execution_count": 15,
   "metadata": {},
   "outputs": [
    {
     "name": "stdout",
     "output_type": "stream",
     "text": [
      "Hola, me llamo , tengo  años, estoy aprendiendo python \n"
     ]
    }
   ],
   "source": [
    "#Ejercicio prácico 2\n",
    "# Crear un programa que solicite al usuario su nombre, edad y si está aprendiendo python y luego imprimirlo en pantalla.\n",
    "\n",
    "nombre = input(\"Cuál es tu nombre?: \")\n",
    "edad = input (\"Cuál es tu edad?: \")\n",
    "learning = input(\"Estás aprendiendo python?: \")\n",
    "\n",
    "print(f\"Hola, me llamo {nombre}, tengo {edad} años, estoy aprendiendo python {learning}\")\n"
   ]
  },
  {
   "cell_type": "code",
   "execution_count": 16,
   "metadata": {},
   "outputs": [
    {
     "name": "stdout",
     "output_type": "stream",
     "text": [
      "Hola, me llamo , tengo  años, estoy aprendiendo Python: \n"
     ]
    }
   ],
   "source": [
    "# Ejercicio pidiendo el ingleso de datos por el usuario.\n",
    "nombre = input(\"¿Cuál es tu nombre?: \")\n",
    "edad = input(\"¿Cuál es tu edad?: \")\n",
    "learning = input(\"¿Estás aprendiendo Python?: \")\n",
    "\n",
    "# Otra forma de imprimir los datos colocandolos al final.\n",
    "print(\"Hola, me llamo {}, tengo {} años, estoy aprendiendo Python: {}\".format(nombre, edad, learning))"
   ]
  },
  {
   "cell_type": "code",
   "execution_count": 17,
   "metadata": {},
   "outputs": [
    {
     "name": "stdout",
     "output_type": "stream",
     "text": [
      "Hola, me llamo , tengo  años, estoy aprendiendo Python: \n"
     ]
    }
   ],
   "source": [
    "#Ejercicio 3 concatenando los las variables (poco recomendado)\n",
    "#No se recomienda concatenar variables con el operador +,\n",
    "#  ya que es menos eficiente y más propenso a errores.\n",
    "\n",
    "nombre = input(\"¿Cuál es tu nombre?: \")\n",
    "edad = input(\"¿Cuál es tu edad?: \")\n",
    "learning = input(\"¿Estás aprendiendo Python?: \")\n",
    "\n",
    "print(\"Hola, me llamo \" + nombre + \", tengo \" + edad + \" años, estoy aprendiendo Python: \" + learning)"
   ]
  },
  {
   "cell_type": "markdown",
   "metadata": {},
   "source": [
    "### Uso de tipo explicito de variable"
   ]
  },
  {
   "cell_type": "code",
   "execution_count": 18,
   "metadata": {},
   "outputs": [
    {
     "name": "stdout",
     "output_type": "stream",
     "text": [
      "El área del rectángulo es: 213\n",
      "El perímetro del rectángulo es: 61.6\n",
      "El area es una variable de tipo: <class 'int'> y el perimetro es de tipo: <class 'float'>\n"
     ]
    }
   ],
   "source": [
    "# Este ejercicio calcula el área y perímetro de un rectángulo\n",
    "# Se declaran las varables con los valores de los lados del rectángulo\n",
    "lado1 = float(10.5)\n",
    "lado2 = float(20.3)\n",
    "\n",
    "# Se calcula el área del rectángulo guardando los valores en la variable area\n",
    "area = int(lado1 * lado2)\n",
    "\n",
    "# Se calcula el perímetro del rectángulo guardando los valores en la variable perimetro\n",
    "perimetro = float(2 * (lado1 + lado2))\n",
    "\n",
    "# Se imprimen los resultados colocando los valores de las variables junto a un mensaje para facilitar la interacción con el usuario.\n",
    "print(\"El área del rectángulo es:\", area)\n",
    "print(\"El perímetro del rectángulo es:\", perimetro)\n",
    "\n",
    "#Para ejemplificar los tipos de datos de las variables se imprime el tipo de dato de las variables area y perimetro\n",
    "# Este tipo de consultas ayuda a la hora de comrobar errores por el uso de diferentes tipos de variables.\n",
    "print(f\"El area es una variable de tipo: {type(area)} y el perimetro es de tipo: {type(perimetro)}\")\n"
   ]
  },
  {
   "cell_type": "markdown",
   "metadata": {},
   "source": [
    "## Día 2. Listas, diccionarios y tuplas"
   ]
  },
  {
   "cell_type": "markdown",
   "metadata": {},
   "source": [
    "Las listas, diccionarios y tuplas son estructuras de datos que permiten almacenar varios valores en una sola variable.\n"
   ]
  },
  {
   "cell_type": "markdown",
   "metadata": {},
   "source": [
    "### Lisas"
   ]
  },
  {
   "cell_type": "code",
   "execution_count": 14,
   "metadata": {},
   "outputs": [
    {
     "name": "stdout",
     "output_type": "stream",
     "text": [
      "[1, 2, 3, 4, 5]\n",
      "[5, 4, 3, 2, 1]\n",
      "[1, 2, 3, 4, 5]\n"
     ]
    }
   ],
   "source": [
    "# Las listas son colecciones ordenadas de elementos que pueden ser de diferentes tipos de datos.\n",
    "# Las listas se pueden modificar, agregar, eliminar y ordenar elementos.\n",
    "# Para crear una lista se utilizan corchetes [] y se separan los elementos con comas.\n",
    "# Ejemplo de lista\n",
    "lista = [1, 2, 3, 4, 5]\n",
    "print(lista)\n",
    "\n",
    "# Para imprimir la lista en orden inverso se puede utilizar el método reverse()\n",
    "lista.reverse()\n",
    "print(lista)\n",
    "\n",
    "#Para regresar la lista a su orden original se puede utilizar el método reverse() nuevamente\n",
    "lista.reverse()\n",
    "print(lista)\n"
   ]
  },
  {
   "cell_type": "code",
   "execution_count": 6,
   "metadata": {},
   "outputs": [
    {
     "name": "stdout",
     "output_type": "stream",
     "text": [
      "1\n",
      "2\n",
      "3\n",
      "4\n",
      "5\n"
     ]
    }
   ],
   "source": [
    "# Para acceder a un elemento de una lista se utiliza el índice del elemento.\n",
    "# Los índices en Python comienzan en 0.\n",
    "# Ejemplo de acceso a elementos de una lista\n",
    "lista = [1, 2, 3, 4, 5]\n",
    "print(lista[0]) # Imprime el primer elemento de la lista\n",
    "print(lista[1]) # Imprime el segundo elemento de la lista\n",
    "print(lista[2]) # Imprime el tercer elemento de la lista\n",
    "print(lista[3]) # Imprime el cuarto elemento de la lista\n",
    "print(lista[4]) # Imprime el quinto elemento de la lista\n",
    "\n"
   ]
  },
  {
   "cell_type": "code",
   "execution_count": 7,
   "metadata": {},
   "outputs": [
    {
     "name": "stdout",
     "output_type": "stream",
     "text": [
      "[10, 20, 30, 40, 50]\n"
     ]
    }
   ],
   "source": [
    "# Para modificar un elemento de una lista se utiliza el índice del elemento.\n",
    "# Ejemplo de modificación de elementos de una lista\n",
    "lista = [1, 2, 3, 4, 5]\n",
    "lista[0] = 10 # Modifica el primer elemento de la lista\n",
    "lista[1] = 20 # Modifica el segundo elemento de la lista\n",
    "lista[2] = 30 # Modifica el tercer elemento de la lista\n",
    "lista[3] = 40 # Modifica el cuarto elemento de la lista\n",
    "lista[4] = 50 # Modifica el quinto elemento de la lista\n",
    "print(lista)\n"
   ]
  },
  {
   "cell_type": "code",
   "execution_count": 9,
   "metadata": {},
   "outputs": [
    {
     "name": "stdout",
     "output_type": "stream",
     "text": [
      "[1, 2, 3, 4, 5, 6, 7, 8]\n"
     ]
    }
   ],
   "source": [
    "# Para agregar elementos a una lista se utiliza el método append().\n",
    "# Ejemplo de agregado de elementos a una lista\n",
    "lista = [1, 2, 3, 4, 5]\n",
    "lista.append(6) # Agrega el número 6 al final de la lista\n",
    "lista.append(7) # Agrega el número 7 al final de la lista\n",
    "lista.append(8) # Agrega el número 8 al final de la lista\n",
    "print(lista)\n"
   ]
  },
  {
   "cell_type": "code",
   "execution_count": null,
   "metadata": {},
   "outputs": [],
   "source": [
    "#Agregar un elemento en una posición específica de la lista\n",
    "# Para agregar un elemento en una posición específica de una lista se utiliza el método insert().\n",
    "# Ejemplo de agregado de elementos en una posición específica de una lista\n",
    "lista = [1, 2, 3, 4, 5]\n",
    "lista.insert(1, 10) # Agrega el número 10 en la posición 1 de la lista\n",
    "lista.insert(3, 20) # Agrega el número 20 en la posición 3 de la lista\n",
    "lista.insert(5, 30) # Agrega el número 30 en la posición 5 de la lista\n",
    "print(lista)"
   ]
  },
  {
   "cell_type": "code",
   "execution_count": 10,
   "metadata": {},
   "outputs": [
    {
     "name": "stdout",
     "output_type": "stream",
     "text": [
      "[4, 5]\n"
     ]
    }
   ],
   "source": [
    "# Para eliminar elementos de una lista se utiliza el método remove().\n",
    "# Ejemplo de eliminación de elementos de una lista\n",
    "lista = [1, 2, 3, 4, 5]\n",
    "lista.remove(1) # Elimina el número 1 de la lista\n",
    "lista.remove(2) # Elimina el número 2 de la lista\n",
    "lista.remove(3) # Elimina el número 3 de la lista\n",
    "print(lista)\n"
   ]
  },
  {
   "cell_type": "code",
   "execution_count": 11,
   "metadata": {},
   "outputs": [
    {
     "name": "stdout",
     "output_type": "stream",
     "text": [
      "[1, 2, 3, 4, 5]\n"
     ]
    }
   ],
   "source": [
    "# Para ordenar los elementos de una lista se utiliza el método sort().\n",
    "# Ejemplo de ordenamiento de elementos de una lista\n",
    "lista = [5, 3, 1, 4, 2]\n",
    "lista.sort() # Ordena los elementos de la lista\n",
    "print(lista)\n"
   ]
  },
  {
   "cell_type": "code",
   "execution_count": 15,
   "metadata": {},
   "outputs": [
    {
     "name": "stdout",
     "output_type": "stream",
     "text": [
      "[1, 2.5, 'Hola', True]\n"
     ]
    }
   ],
   "source": [
    "#Tipos de dato en lista\n",
    "# Las listas pueden contener elementos de diferentes tipos de datos.\n",
    "# Ejemplo de lista con diferentes tipos de datos\n",
    "lista = [1, 2.5, \"Hola\", True]\n",
    "print(lista)\n",
    "\n",
    "#Para imprimir el tipo de dato de los elementos de una lista se puede utilizar un ciclo for.\n",
    "# Ejemplo de impresión de tipos de datos de los elementos de una lista\n",
    "lista = [1, 2.5, \"Hola\", True] # Lista con diferentes tipos de datos\n",
    "for elemento in lista:\n",
    "    print(type(elemento)) # Imprime el tipo de dato de cada elemento de la lista\n",
    "\n",
    "#Ejercicio práctico\n",
    "# Crear una lista con los nombres de tus compañeros de clase y luego imprimir la lista.\n",
    "companeros = [\"Juan\", \"Pedro\", \"Maria\", \"Ana\", \"Luis\"]\n",
    "print(companeros)\n"
   ]
  },
  {
   "cell_type": "markdown",
   "metadata": {},
   "source": [
    "## Día 3. Condicionales"
   ]
  },
  {
   "cell_type": "markdown",
   "metadata": {},
   "source": []
  },
  {
   "cell_type": "markdown",
   "metadata": {},
   "source": [
    "Las estructuras condicionales permiten ejecutar un bloque de código si se cumple una condición. \n",
    "Son muy útiles para tomar decisiones en un programa. En Python, las estructuras condicionales más comunes son:\n",
    "- if: se ejecuta si se cumple la condición\n",
    "- if-else: se ejecuta si se cumple la condición y si no se cumple\n",
    "- else: se ejecuta si no se cumple la condición\n",
    "- elif: se ejecuta si no se cumple la condición anterior y se cumple la condición actual"
   ]
  },
  {
   "cell_type": "markdown",
   "metadata": {},
   "source": [
    "### IF (SI)"
   ]
  },
  {
   "cell_type": "code",
   "execution_count": 19,
   "metadata": {},
   "outputs": [],
   "source": [
    "#Ejercicio 1 IF, ELSE, si el número es mayor a 10 imprime el mensaje \"El número es mayor a 10\"\n",
    "# Si el número es menor o igual a 10 imprime el mensaje \"El número es menor o igual a 10\"\n",
    "\n"
   ]
  },
  {
   "cell_type": "code",
   "execution_count": 29,
   "metadata": {},
   "outputs": [
    {
     "name": "stdout",
     "output_type": "stream",
     "text": [
      "El número 3 es impar\n"
     ]
    }
   ],
   "source": [
    "# Ejercicio 3, IF else con número par\n",
    "# Crear un programa que solicite al usuario el ingreso de un número y luego imprima en pantalla si el número es par o impar.\n",
    "# Se solicita al usuario el ingreso de un número y se guarda en la variable num\n",
    "\n",
    "num = int(input(\"Ingrese el primer numero: \"))\n",
    "if num % 2 == 0:\n",
    "    print(f\"El número {num} es par\")\n",
    "else:\n",
    "    print(f\"El número {num} es impar\")\n",
    "    \n",
    "#La explicación de este ejercicio es que si el número ingresado por el usuario es par, el residuo de la división entre 2 será igual a 0, por lo que se imprime el mensaje \"El número es par\".\n",
    "# Si el residuo de la división entre 2 es diferente de 0, se imprime el mensaje \"El número es impar\".\n",
    "# Se coloca % porque es el operador módulo, que devuelve el residuo de la división entre dos números.\n",
    "# Se coloca == porque es el operador de comparación \"igual a\", que devuelve True si los valores comparados son iguales y False si son diferentes.\n",
    "# Se coloca else para ejecutar un bloque de código si la condición del if no se cumple.\n",
    "\n",
    "\n"
   ]
  },
  {
   "cell_type": "code",
   "execution_count": 5,
   "metadata": {},
   "outputs": [
    {
     "name": "stdout",
     "output_type": "stream",
     "text": [
      "El número 4 es par\n"
     ]
    }
   ],
   "source": [
    "#Ejercicio 4. If solo con el número impar\n",
    "# Se solicita al usuario el ingreso de un número y se guarda en la variable num\n",
    "num = int(input(\"Ingrese un número: \"))\n",
    "if num % 2 != 0:\n",
    "    print(f\"El número {num} es impar\")\n",
    "else:\n",
    "    print(f\"El número {num} es par\")\n",
    "\n",
    "#La explicacion de este ejercicio es que si el número ingresado por el usuario es impar, el residuo de la división entre 2 será diferente de 0, por lo que se imprime el mensaje \"El número es impar\". \n",
    "# Si el residuo de la división entre 2 es igual a 0, se imprime el mensaje \"El número es par\".\n",
    "# Se coloca % porque es el operador módulo, que devuelve el residuo de la división entre dos números.\n",
    "# Se coloca != porque es el operador de comparación \"diferente de\", que devuelve True si los valores comparados son diferentes y False si son iguales.\n"
   ]
  }
 ],
 "metadata": {
  "kernelspec": {
   "display_name": "Python 3",
   "language": "python",
   "name": "python3"
  },
  "language_info": {
   "codemirror_mode": {
    "name": "ipython",
    "version": 3
   },
   "file_extension": ".py",
   "mimetype": "text/x-python",
   "name": "python",
   "nbconvert_exporter": "python",
   "pygments_lexer": "ipython3",
   "version": "3.13.1"
  }
 },
 "nbformat": 4,
 "nbformat_minor": 2
}
